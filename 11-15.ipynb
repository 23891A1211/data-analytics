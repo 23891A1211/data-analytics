{
 "cells": [
  {
   "cell_type": "code",
   "execution_count": 1,
   "id": "049d1526-58d4-4f68-bb40-60a4f8759f5f",
   "metadata": {},
   "outputs": [],
   "source": [
    "import pandas as pd"
   ]
  },
  {
   "cell_type": "code",
   "execution_count": 2,
   "id": "b75e81f9-35ef-4274-ba4b-cf37b7c5ec92",
   "metadata": {},
   "outputs": [],
   "source": [
    "data=pd.read_csv(\"C:/Users/sai sharath reddy/OneDrive/Desktop/matches(1).csv\")"
   ]
  },
  {
   "cell_type": "code",
   "execution_count": 4,
   "id": "f1fc6290-4df1-46f9-89d3-1c1ac9ccd617",
   "metadata": {},
   "outputs": [
    {
     "data": {
      "text/html": [
       "<div>\n",
       "<style scoped>\n",
       "    .dataframe tbody tr th:only-of-type {\n",
       "        vertical-align: middle;\n",
       "    }\n",
       "\n",
       "    .dataframe tbody tr th {\n",
       "        vertical-align: top;\n",
       "    }\n",
       "\n",
       "    .dataframe thead th {\n",
       "        text-align: right;\n",
       "    }\n",
       "</style>\n",
       "<table border=\"1\" class=\"dataframe\">\n",
       "  <thead>\n",
       "    <tr style=\"text-align: right;\">\n",
       "      <th></th>\n",
       "      <th>SINO</th>\n",
       "      <th>YEAR</th>\n",
       "      <th>City</th>\n",
       "      <th>Date</th>\n",
       "      <th>Team 1</th>\n",
       "      <th>Team 2</th>\n",
       "      <th>Toss_Winner</th>\n",
       "      <th>Toss_Decision</th>\n",
       "      <th>Result_type</th>\n",
       "      <th>Winners</th>\n",
       "      <th>Location</th>\n",
       "    </tr>\n",
       "  </thead>\n",
       "  <tbody>\n",
       "    <tr>\n",
       "      <th>0</th>\n",
       "      <td>1</td>\n",
       "      <td>2008</td>\n",
       "      <td>Bangalore</td>\n",
       "      <td>18-04-2008</td>\n",
       "      <td>Kolkata Knight Riders</td>\n",
       "      <td>Royal Challengers Bangalore</td>\n",
       "      <td>Royal Challengers Bangalore</td>\n",
       "      <td>field</td>\n",
       "      <td>normal</td>\n",
       "      <td>Kolkata Knight Riders</td>\n",
       "      <td>M Chinnaswamy Stadium</td>\n",
       "    </tr>\n",
       "    <tr>\n",
       "      <th>1</th>\n",
       "      <td>2</td>\n",
       "      <td>2008</td>\n",
       "      <td>Chandigarh</td>\n",
       "      <td>19-04-2008</td>\n",
       "      <td>Chennai Super Kings</td>\n",
       "      <td>Kings XI Punjab</td>\n",
       "      <td>Chennai Super Kings</td>\n",
       "      <td>bat</td>\n",
       "      <td>normal</td>\n",
       "      <td>Chennai Super Kings</td>\n",
       "      <td>Punjab Cricket Association Stadium, Mohali</td>\n",
       "    </tr>\n",
       "    <tr>\n",
       "      <th>2</th>\n",
       "      <td>3</td>\n",
       "      <td>2008</td>\n",
       "      <td>Delhi</td>\n",
       "      <td>19-04-2008</td>\n",
       "      <td>Rajasthan Royals</td>\n",
       "      <td>Delhi Daredevils</td>\n",
       "      <td>Rajasthan Royals</td>\n",
       "      <td>bat</td>\n",
       "      <td>normal</td>\n",
       "      <td>Delhi Daredevils</td>\n",
       "      <td>Feroz Shah Kotla</td>\n",
       "    </tr>\n",
       "    <tr>\n",
       "      <th>3</th>\n",
       "      <td>4</td>\n",
       "      <td>2008</td>\n",
       "      <td>Mumbai</td>\n",
       "      <td>20-04-2008</td>\n",
       "      <td>Mumbai Indians</td>\n",
       "      <td>Royal Challengers Bangalore</td>\n",
       "      <td>Mumbai Indians</td>\n",
       "      <td>bat</td>\n",
       "      <td>normal</td>\n",
       "      <td>Royal Challengers Bangalore</td>\n",
       "      <td>Wankhede Stadium</td>\n",
       "    </tr>\n",
       "    <tr>\n",
       "      <th>4</th>\n",
       "      <td>5</td>\n",
       "      <td>2008</td>\n",
       "      <td>Kolkata</td>\n",
       "      <td>20-04-2008</td>\n",
       "      <td>Deccan Chargers</td>\n",
       "      <td>Kolkata Knight Riders</td>\n",
       "      <td>Deccan Chargers</td>\n",
       "      <td>bat</td>\n",
       "      <td>normal</td>\n",
       "      <td>Kolkata Knight Riders</td>\n",
       "      <td>Eden Gardens</td>\n",
       "    </tr>\n",
       "  </tbody>\n",
       "</table>\n",
       "</div>"
      ],
      "text/plain": [
       "   SINO  YEAR        City        Date                 Team 1  \\\n",
       "0     1  2008   Bangalore  18-04-2008  Kolkata Knight Riders   \n",
       "1     2  2008  Chandigarh  19-04-2008    Chennai Super Kings   \n",
       "2     3  2008       Delhi  19-04-2008       Rajasthan Royals   \n",
       "3     4  2008      Mumbai  20-04-2008         Mumbai Indians   \n",
       "4     5  2008     Kolkata  20-04-2008        Deccan Chargers   \n",
       "\n",
       "                        Team 2                  Toss_Winner Toss_Decision  \\\n",
       "0  Royal Challengers Bangalore  Royal Challengers Bangalore         field   \n",
       "1              Kings XI Punjab          Chennai Super Kings           bat   \n",
       "2             Delhi Daredevils             Rajasthan Royals           bat   \n",
       "3  Royal Challengers Bangalore               Mumbai Indians           bat   \n",
       "4        Kolkata Knight Riders              Deccan Chargers           bat   \n",
       "\n",
       "  Result_type                      Winners  \\\n",
       "0      normal        Kolkata Knight Riders   \n",
       "1      normal          Chennai Super Kings   \n",
       "2      normal             Delhi Daredevils   \n",
       "3      normal  Royal Challengers Bangalore   \n",
       "4      normal        Kolkata Knight Riders   \n",
       "\n",
       "                                     Location  \n",
       "0                       M Chinnaswamy Stadium  \n",
       "1  Punjab Cricket Association Stadium, Mohali  \n",
       "2                            Feroz Shah Kotla  \n",
       "3                            Wankhede Stadium  \n",
       "4                                Eden Gardens  "
      ]
     },
     "execution_count": 4,
     "metadata": {},
     "output_type": "execute_result"
    }
   ],
   "source": [
    "data.head()"
   ]
  },
  {
   "cell_type": "markdown",
   "id": "85cc6b57-ae99-4d74-80df-bca134af5b21",
   "metadata": {},
   "source": [
    "Which team had the highest win percentage in this dataset?"
   ]
  },
  {
   "cell_type": "code",
   "execution_count": 12,
   "id": "98aecd80-7ae9-497e-ac47-9703dc034a50",
   "metadata": {},
   "outputs": [
    {
     "data": {
      "text/plain": [
       "Winners\n",
       "Mumbai Indians                 0.80\n",
       "Chennai Super Kings            0.79\n",
       "Royal Challengers Bangalore    0.70\n",
       "Kolkata Knight Riders          0.68\n",
       "Rajasthan Royals               0.63\n",
       "Kings XI Punjab                0.63\n",
       "Delhi Daredevils               0.56\n",
       "Sunrisers Hyderabad            0.34\n",
       "Deccan Chargers                0.29\n",
       "Pune Warriors                  0.12\n",
       "Gujarat Lions                  0.09\n",
       "Kochi Tuskers Kerala           0.06\n",
       "Rising Pune Supergiants        0.05\n",
       "Name: count, dtype: float64"
      ]
     },
     "execution_count": 12,
     "metadata": {},
     "output_type": "execute_result"
    }
   ],
   "source": [
    "win_percentage=data['Winners'].value_counts()\n",
    "a=win_percentage/100\n",
    "a"
   ]
  },
  {
   "cell_type": "markdown",
   "id": "3dfc5b37-6a6e-4e42-ad47-a381e683a35a",
   "metadata": {},
   "source": [
    "How often did the team winning the toss lose the match?"
   ]
  },
  {
   "cell_type": "code",
   "execution_count": 39,
   "id": "610d04d7-1edc-44dd-8071-b069f9e37d97",
   "metadata": {},
   "outputs": [
    {
     "data": {
      "text/plain": [
       "np.int64(286)"
      ]
     },
     "execution_count": 39,
     "metadata": {},
     "output_type": "execute_result"
    }
   ],
   "source": [
    "toss_count=data['Toss_Winner']==data['Winners']\n",
    "loss_match=toss_count.value_counts()[False]\n",
    "loss_match"
   ]
  },
  {
   "cell_type": "markdown",
   "id": "9c02b08f-9153-465f-980c-9ddda6b8ffe0",
   "metadata": {},
   "source": [
    "Which city’s teams performed the best overall?"
   ]
  },
  {
   "cell_type": "code",
   "execution_count": 36,
   "id": "4cc7cc19-1f6a-4fa6-817d-8aac476cc983",
   "metadata": {},
   "outputs": [
    {
     "data": {
      "text/plain": [
       "('Mumbai', 'Mumbai Indians')"
      ]
     },
     "execution_count": 36,
     "metadata": {},
     "output_type": "execute_result"
    }
   ],
   "source": [
    "city_teams=data.groupby('City')['Winners'].value_counts()\n",
    "city_teams.sort_values(ascending=False).idxmax()"
   ]
  },
  {
   "cell_type": "markdown",
   "id": "d62637f3-6dbb-4564-b614-5c0d2105a55e",
   "metadata": {},
   "source": [
    "What percentage of matches were won by batting first versus fielding first?"
   ]
  },
  {
   "cell_type": "code",
   "execution_count": 41,
   "id": "5f83809f-6efc-4281-8950-ad18178dd30f",
   "metadata": {},
   "outputs": [
    {
     "data": {
      "text/plain": [
       "Toss_Decision\n",
       "bat      2.61\n",
       "field    3.13\n",
       "Name: Winners, dtype: float64"
      ]
     },
     "execution_count": 41,
     "metadata": {},
     "output_type": "execute_result"
    }
   ],
   "source": [
    "won=data.groupby('Toss_Decision')['Winners'].count()\n",
    "a=won/100\n",
    "a"
   ]
  },
  {
   "cell_type": "markdown",
   "id": "50e3e123-5cac-4bf4-a531-e218e16cc29a",
   "metadata": {},
   "source": [
    "Which team lost the most tosses but still won matches?"
   ]
  },
  {
   "cell_type": "code",
   "execution_count": 61,
   "id": "9f4de7cb-2579-4913-aad9-dcadc40f23aa",
   "metadata": {},
   "outputs": [
    {
     "data": {
      "text/plain": [
       "Winners\n",
       "Mumbai Indians                 39\n",
       "Chennai Super Kings            37\n",
       "Royal Challengers Bangalore    37\n",
       "Kings XI Punjab                37\n",
       "Kolkata Knight Riders          30\n",
       "Rajasthan Royals               29\n",
       "Delhi Daredevils               28\n",
       "Sunrisers Hyderabad            20\n",
       "Deccan Chargers                10\n",
       "Pune Warriors                   9\n",
       "Gujarat Lions                   3\n",
       "Kochi Tuskers Kerala            2\n",
       "Rising Pune Supergiants         2\n",
       "Name: count, dtype: int64"
      ]
     },
     "execution_count": 61,
     "metadata": {},
     "output_type": "execute_result"
    }
   ],
   "source": [
    "lost_toss_won_match=data[data['Toss_Winner'] != data['Winners']]\n",
    "win=lost_toss_won_match['Winners'].value_counts()\n",
    "win"
   ]
  },
  {
   "cell_type": "code",
   "execution_count": 63,
   "id": "5f3190b9-446e-4a59-a620-61d7c50bfc81",
   "metadata": {},
   "outputs": [
    {
     "data": {
      "text/plain": [
       "'Sunrisers Hyderabad'"
      ]
     },
     "execution_count": 63,
     "metadata": {},
     "output_type": "execute_result"
    }
   ],
   "source": [
    "t=data['Toss_Winner'].max()\n",
    "t"
   ]
  },
  {
   "cell_type": "code",
   "execution_count": null,
   "id": "31194fa5-5f95-486f-b79d-f857f0fe37d2",
   "metadata": {},
   "outputs": [],
   "source": []
  }
 ],
 "metadata": {
  "kernelspec": {
   "display_name": "Python 3 (ipykernel)",
   "language": "python",
   "name": "python3"
  },
  "language_info": {
   "codemirror_mode": {
    "name": "ipython",
    "version": 3
   },
   "file_extension": ".py",
   "mimetype": "text/x-python",
   "name": "python",
   "nbconvert_exporter": "python",
   "pygments_lexer": "ipython3",
   "version": "3.13.5"
  }
 },
 "nbformat": 4,
 "nbformat_minor": 5
}
