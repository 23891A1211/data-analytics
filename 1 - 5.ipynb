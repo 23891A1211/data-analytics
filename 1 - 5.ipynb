{
 "cells": [
  {
   "cell_type": "code",
   "execution_count": 1,
   "id": "ee2f2da1-2d10-4312-bcae-a31dc73b415a",
   "metadata": {},
   "outputs": [],
   "source": [
    "import pandas as pd"
   ]
  },
  {
   "cell_type": "code",
   "execution_count": 3,
   "id": "28a3f8df-61d0-4f14-b135-4048751e3da9",
   "metadata": {},
   "outputs": [],
   "source": [
    "df=pd.read_csv(r\"C:\\Users\\mohit\\Downloads\\Vignan_Projects-main (1)\\Vignan_Projects-main\\matchess.csv\")"
   ]
  },
  {
   "cell_type": "code",
   "execution_count": 4,
   "id": "704ac232-a9f6-4a69-82ea-c886950019be",
   "metadata": {},
   "outputs": [
    {
     "data": {
      "text/html": [
       "<div>\n",
       "<style scoped>\n",
       "    .dataframe tbody tr th:only-of-type {\n",
       "        vertical-align: middle;\n",
       "    }\n",
       "\n",
       "    .dataframe tbody tr th {\n",
       "        vertical-align: top;\n",
       "    }\n",
       "\n",
       "    .dataframe thead th {\n",
       "        text-align: right;\n",
       "    }\n",
       "</style>\n",
       "<table border=\"1\" class=\"dataframe\">\n",
       "  <thead>\n",
       "    <tr style=\"text-align: right;\">\n",
       "      <th></th>\n",
       "      <th>id</th>\n",
       "      <th>season</th>\n",
       "      <th>city</th>\n",
       "      <th>date</th>\n",
       "      <th>team1</th>\n",
       "      <th>team2</th>\n",
       "      <th>toss_winner</th>\n",
       "      <th>toss_decision</th>\n",
       "      <th>result</th>\n",
       "      <th>winner</th>\n",
       "      <th>venue</th>\n",
       "    </tr>\n",
       "  </thead>\n",
       "  <tbody>\n",
       "    <tr>\n",
       "      <th>0</th>\n",
       "      <td>1</td>\n",
       "      <td>2008</td>\n",
       "      <td>Chandigarh</td>\n",
       "      <td>19/04/2008</td>\n",
       "      <td>Chennai Super Kings</td>\n",
       "      <td>Kings XI Punjab</td>\n",
       "      <td>Chennai Super Kings</td>\n",
       "      <td>bat</td>\n",
       "      <td>normal</td>\n",
       "      <td>Chennai Super Kings</td>\n",
       "      <td>Punjab Cricket Association Stadium, Mohali</td>\n",
       "    </tr>\n",
       "    <tr>\n",
       "      <th>1</th>\n",
       "      <td>2</td>\n",
       "      <td>2008</td>\n",
       "      <td>Delhi</td>\n",
       "      <td>19/04/2008</td>\n",
       "      <td>Rajasthan Royals</td>\n",
       "      <td>Delhi Daredevils</td>\n",
       "      <td>Rajasthan Royals</td>\n",
       "      <td>bat</td>\n",
       "      <td>normal</td>\n",
       "      <td>Delhi Daredevils</td>\n",
       "      <td>Feroz Shah Kotla</td>\n",
       "    </tr>\n",
       "    <tr>\n",
       "      <th>2</th>\n",
       "      <td>3</td>\n",
       "      <td>2008</td>\n",
       "      <td>Mumbai</td>\n",
       "      <td>20/04/2008</td>\n",
       "      <td>Mumbai Indians</td>\n",
       "      <td>Royal Challengers Bangalore</td>\n",
       "      <td>Mumbai Indians</td>\n",
       "      <td>bat</td>\n",
       "      <td>normal</td>\n",
       "      <td>Royal Challengers Bangalore</td>\n",
       "      <td>Wankhede Stadium</td>\n",
       "    </tr>\n",
       "    <tr>\n",
       "      <th>3</th>\n",
       "      <td>4</td>\n",
       "      <td>2008</td>\n",
       "      <td>Kolkata</td>\n",
       "      <td>20/04/2008</td>\n",
       "      <td>Deccan Chargers</td>\n",
       "      <td>Kolkata Knight Riders</td>\n",
       "      <td>Deccan Chargers</td>\n",
       "      <td>bat</td>\n",
       "      <td>normal</td>\n",
       "      <td>Kolkata Knight Riders</td>\n",
       "      <td>Eden Gardens</td>\n",
       "    </tr>\n",
       "    <tr>\n",
       "      <th>4</th>\n",
       "      <td>5</td>\n",
       "      <td>2008</td>\n",
       "      <td>Jaipur</td>\n",
       "      <td>21/04/2008</td>\n",
       "      <td>Kings XI Punjab</td>\n",
       "      <td>Rajasthan Royals</td>\n",
       "      <td>Kings XI Punjab</td>\n",
       "      <td>bat</td>\n",
       "      <td>normal</td>\n",
       "      <td>Rajasthan Royals</td>\n",
       "      <td>Sawai Mansingh Stadium</td>\n",
       "    </tr>\n",
       "  </tbody>\n",
       "</table>\n",
       "</div>"
      ],
      "text/plain": [
       "   id  season        city        date                team1  \\\n",
       "0   1    2008  Chandigarh  19/04/2008  Chennai Super Kings   \n",
       "1   2    2008       Delhi  19/04/2008     Rajasthan Royals   \n",
       "2   3    2008      Mumbai  20/04/2008       Mumbai Indians   \n",
       "3   4    2008     Kolkata  20/04/2008      Deccan Chargers   \n",
       "4   5    2008      Jaipur  21/04/2008      Kings XI Punjab   \n",
       "\n",
       "                         team2          toss_winner toss_decision  result  \\\n",
       "0              Kings XI Punjab  Chennai Super Kings           bat  normal   \n",
       "1             Delhi Daredevils     Rajasthan Royals           bat  normal   \n",
       "2  Royal Challengers Bangalore       Mumbai Indians           bat  normal   \n",
       "3        Kolkata Knight Riders      Deccan Chargers           bat  normal   \n",
       "4             Rajasthan Royals      Kings XI Punjab           bat  normal   \n",
       "\n",
       "                        winner                                       venue  \n",
       "0          Chennai Super Kings  Punjab Cricket Association Stadium, Mohali  \n",
       "1             Delhi Daredevils                            Feroz Shah Kotla  \n",
       "2  Royal Challengers Bangalore                            Wankhede Stadium  \n",
       "3        Kolkata Knight Riders                                Eden Gardens  \n",
       "4             Rajasthan Royals                      Sawai Mansingh Stadium  "
      ]
     },
     "execution_count": 4,
     "metadata": {},
     "output_type": "execute_result"
    }
   ],
   "source": [
    "df.head()\n"
   ]
  },
  {
   "cell_type": "code",
   "execution_count": 5,
   "id": "6fa586d6-111e-439a-8040-1a5e21631685",
   "metadata": {},
   "outputs": [],
   "source": [
    "#1\n",
    "matches_2008 = df[df['season'] == 2008]\n",
    "most_wins_2008 = matches_2008['winner'].value_counts().idxmax()"
   ]
  },
  {
   "cell_type": "code",
   "execution_count": 7,
   "id": "febb5d08-e4c1-40a5-a8bd-9313d0f0b637",
   "metadata": {},
   "outputs": [
    {
     "data": {
      "text/plain": [
       "'Rajasthan Royals'"
      ]
     },
     "execution_count": 7,
     "metadata": {},
     "output_type": "execute_result"
    }
   ],
   "source": [
    "most_wins_2008"
   ]
  },
  {
   "cell_type": "code",
   "execution_count": 8,
   "id": "d7d091e4-2b5f-4974-b84b-c87aaa17c365",
   "metadata": {},
   "outputs": [],
   "source": [
    "#2\n",
    "most_city = df['city'].value_counts().idxmax()"
   ]
  },
  {
   "cell_type": "code",
   "execution_count": 9,
   "id": "b9af357e-0efe-406f-989d-330640a2c6bc",
   "metadata": {},
   "outputs": [
    {
     "data": {
      "text/plain": [
       "'Mumbai'"
      ]
     },
     "execution_count": 9,
     "metadata": {},
     "output_type": "execute_result"
    }
   ],
   "source": [
    "most_city"
   ]
  },
  {
   "cell_type": "code",
   "execution_count": 13,
   "id": "9937db25-dfb9-4d04-a794-deb4f1b1d17c",
   "metadata": {},
   "outputs": [],
   "source": [
    "#5\n",
    "df['toss_win_matchwin'] = df['toss_winner'] == df['winner']\n",
    "toss_effect = df['toss_win_matchwin'].mean() * 100"
   ]
  },
  {
   "cell_type": "code",
   "execution_count": 14,
   "id": "13308051-fe1c-42a0-9f0c-99b915cb2cf2",
   "metadata": {},
   "outputs": [
    {
     "data": {
      "text/plain": [
       "np.float64(50.520833333333336)"
      ]
     },
     "execution_count": 14,
     "metadata": {},
     "output_type": "execute_result"
    }
   ],
   "source": [
    "toss_effect"
   ]
  },
  {
   "cell_type": "code",
   "execution_count": 16,
   "id": "2e9331c9-7163-49d1-bdaa-65867375d94b",
   "metadata": {},
   "outputs": [
    {
     "data": {
      "text/plain": [
       "toss_decision\n",
       "bat      262\n",
       "field    314\n",
       "Name: winner, dtype: int64"
      ]
     },
     "execution_count": 16,
     "metadata": {},
     "output_type": "execute_result"
    }
   ],
   "source": [
    "#3,4\n",
    "df.groupby(\"toss_decision\")[\"winner\"].count()"
   ]
  },
  {
   "cell_type": "code",
   "execution_count": null,
   "id": "84a072ef-2bb8-47e7-bec5-2673bf47a838",
   "metadata": {},
   "outputs": [],
   "source": []
  }
 ],
 "metadata": {
  "kernelspec": {
   "display_name": "Python [conda env:base] *",
   "language": "python",
   "name": "conda-base-py"
  },
  "language_info": {
   "codemirror_mode": {
    "name": "ipython",
    "version": 3
   },
   "file_extension": ".py",
   "mimetype": "text/x-python",
   "name": "python",
   "nbconvert_exporter": "python",
   "pygments_lexer": "ipython3",
   "version": "3.13.5"
  }
 },
 "nbformat": 4,
 "nbformat_minor": 5
}
