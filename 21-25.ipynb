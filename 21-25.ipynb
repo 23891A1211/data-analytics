{
 "cells": [
  {
   "cell_type": "code",
   "execution_count": 1,
   "id": "73e99846-b1ab-482f-b66e-cff750d6f52a",
   "metadata": {},
   "outputs": [],
   "source": [
    "import pandas as pd"
   ]
  },
  {
   "cell_type": "code",
   "execution_count": 6,
   "id": "6dc1d7ea-3643-4795-8706-05de7fec0478",
   "metadata": {},
   "outputs": [
    {
     "data": {
      "text/html": [
       "<div>\n",
       "<style scoped>\n",
       "    .dataframe tbody tr th:only-of-type {\n",
       "        vertical-align: middle;\n",
       "    }\n",
       "\n",
       "    .dataframe tbody tr th {\n",
       "        vertical-align: top;\n",
       "    }\n",
       "\n",
       "    .dataframe thead th {\n",
       "        text-align: right;\n",
       "    }\n",
       "</style>\n",
       "<table border=\"1\" class=\"dataframe\">\n",
       "  <thead>\n",
       "    <tr style=\"text-align: right;\">\n",
       "      <th></th>\n",
       "      <th>SINO</th>\n",
       "      <th>YEAR</th>\n",
       "      <th>City</th>\n",
       "      <th>Date</th>\n",
       "      <th>Team 1</th>\n",
       "      <th>Team 2</th>\n",
       "      <th>Toss_Winner</th>\n",
       "      <th>Toss_Decision</th>\n",
       "      <th>Result_type</th>\n",
       "      <th>Winners</th>\n",
       "      <th>Location</th>\n",
       "    </tr>\n",
       "  </thead>\n",
       "  <tbody>\n",
       "    <tr>\n",
       "      <th>0</th>\n",
       "      <td>1</td>\n",
       "      <td>2008</td>\n",
       "      <td>Bangalore</td>\n",
       "      <td>18-04-2008</td>\n",
       "      <td>Kolkata Knight Riders</td>\n",
       "      <td>Royal Challengers Bangalore</td>\n",
       "      <td>Royal Challengers Bangalore</td>\n",
       "      <td>field</td>\n",
       "      <td>normal</td>\n",
       "      <td>Kolkata Knight Riders</td>\n",
       "      <td>M Chinnaswamy Stadium</td>\n",
       "    </tr>\n",
       "    <tr>\n",
       "      <th>1</th>\n",
       "      <td>2</td>\n",
       "      <td>2008</td>\n",
       "      <td>Chandigarh</td>\n",
       "      <td>19-04-2008</td>\n",
       "      <td>Chennai Super Kings</td>\n",
       "      <td>Kings XI Punjab</td>\n",
       "      <td>Chennai Super Kings</td>\n",
       "      <td>bat</td>\n",
       "      <td>normal</td>\n",
       "      <td>Chennai Super Kings</td>\n",
       "      <td>Punjab Cricket Association Stadium, Mohali</td>\n",
       "    </tr>\n",
       "    <tr>\n",
       "      <th>2</th>\n",
       "      <td>3</td>\n",
       "      <td>2008</td>\n",
       "      <td>Delhi</td>\n",
       "      <td>19-04-2008</td>\n",
       "      <td>Rajasthan Royals</td>\n",
       "      <td>Delhi Daredevils</td>\n",
       "      <td>Rajasthan Royals</td>\n",
       "      <td>bat</td>\n",
       "      <td>normal</td>\n",
       "      <td>Delhi Daredevils</td>\n",
       "      <td>Feroz Shah Kotla</td>\n",
       "    </tr>\n",
       "    <tr>\n",
       "      <th>3</th>\n",
       "      <td>4</td>\n",
       "      <td>2008</td>\n",
       "      <td>Mumbai</td>\n",
       "      <td>20-04-2008</td>\n",
       "      <td>Mumbai Indians</td>\n",
       "      <td>Royal Challengers Bangalore</td>\n",
       "      <td>Mumbai Indians</td>\n",
       "      <td>bat</td>\n",
       "      <td>normal</td>\n",
       "      <td>Royal Challengers Bangalore</td>\n",
       "      <td>Wankhede Stadium</td>\n",
       "    </tr>\n",
       "    <tr>\n",
       "      <th>4</th>\n",
       "      <td>5</td>\n",
       "      <td>2008</td>\n",
       "      <td>Kolkata</td>\n",
       "      <td>20-04-2008</td>\n",
       "      <td>Deccan Chargers</td>\n",
       "      <td>Kolkata Knight Riders</td>\n",
       "      <td>Deccan Chargers</td>\n",
       "      <td>bat</td>\n",
       "      <td>normal</td>\n",
       "      <td>Kolkata Knight Riders</td>\n",
       "      <td>Eden Gardens</td>\n",
       "    </tr>\n",
       "  </tbody>\n",
       "</table>\n",
       "</div>"
      ],
      "text/plain": [
       "   SINO  YEAR        City        Date                 Team 1  \\\n",
       "0     1  2008   Bangalore  18-04-2008  Kolkata Knight Riders   \n",
       "1     2  2008  Chandigarh  19-04-2008    Chennai Super Kings   \n",
       "2     3  2008       Delhi  19-04-2008       Rajasthan Royals   \n",
       "3     4  2008      Mumbai  20-04-2008         Mumbai Indians   \n",
       "4     5  2008     Kolkata  20-04-2008        Deccan Chargers   \n",
       "\n",
       "                        Team 2                  Toss_Winner Toss_Decision  \\\n",
       "0  Royal Challengers Bangalore  Royal Challengers Bangalore         field   \n",
       "1              Kings XI Punjab          Chennai Super Kings           bat   \n",
       "2             Delhi Daredevils             Rajasthan Royals           bat   \n",
       "3  Royal Challengers Bangalore               Mumbai Indians           bat   \n",
       "4        Kolkata Knight Riders              Deccan Chargers           bat   \n",
       "\n",
       "  Result_type                      Winners  \\\n",
       "0      normal        Kolkata Knight Riders   \n",
       "1      normal          Chennai Super Kings   \n",
       "2      normal             Delhi Daredevils   \n",
       "3      normal  Royal Challengers Bangalore   \n",
       "4      normal        Kolkata Knight Riders   \n",
       "\n",
       "                                     Location  \n",
       "0                       M Chinnaswamy Stadium  \n",
       "1  Punjab Cricket Association Stadium, Mohali  \n",
       "2                            Feroz Shah Kotla  \n",
       "3                            Wankhede Stadium  \n",
       "4                                Eden Gardens  "
      ]
     },
     "execution_count": 6,
     "metadata": {},
     "output_type": "execute_result"
    }
   ],
   "source": [
    "data= pd.read_csv('/Users/apple/Downloads/matches(1).csv')\n",
    "data.head()"
   ]
  },
  {
   "cell_type": "code",
   "execution_count": 7,
   "id": "014f0e8f-964e-4647-b448-fe8f66acf50a",
   "metadata": {},
   "outputs": [
    {
     "name": "stdout",
     "output_type": "stream",
     "text": [
      "Average number of matches played per city: 19.00\n"
     ]
    }
   ],
   "source": [
    "avg_matches_per_city = data['City'].value_counts().mean()\n",
    "print(f\"Average number of matches played per city: {avg_matches_per_city:.2f}\")\n"
   ]
  },
  {
   "cell_type": "code",
   "execution_count": 10,
   "id": "2fd107ef-cf7c-45d9-bc2d-33744e1258c9",
   "metadata": {},
   "outputs": [
    {
     "name": "stdout",
     "output_type": "stream",
     "text": [
      "['SINO', 'YEAR', 'City', 'Date', 'Team 1', 'Team 2', 'Toss_Winner', 'Toss_Decision', 'Result_type', 'Winners', 'Location']\n"
     ]
    }
   ],
   "source": [
    "import pandas as pd\n",
    "\n",
    "data = pd.read_csv('/Users/apple/Downloads/matches(1).csv')\n",
    "\n",
    "\n",
    "print(data.columns.tolist())\n"
   ]
  },
  {
   "cell_type": "code",
   "execution_count": 11,
   "id": "8c930466-712f-4ca0-92e4-02cbf878c0ab",
   "metadata": {},
   "outputs": [
    {
     "name": "stdout",
     "output_type": "stream",
     "text": [
      "Teams by number of matches played:\n",
      " Chennai Super Kings            131\n",
      "Deccan Chargers                 75\n",
      "Delhi Daredevils               133\n",
      "Gujarat Lions                   16\n",
      "Kings XI Punjab                134\n",
      "Kochi Tuskers Kerala            14\n",
      "Kolkata Knight Riders          132\n",
      "Mumbai Indians                 140\n",
      "Pune Warriors                   46\n",
      "Rajasthan Royals               118\n",
      "Rising Pune Supergiants         14\n",
      "Royal Challengers Bangalore    139\n",
      "Sunrisers Hyderabad             62\n",
      "Name: count, dtype: int64\n",
      "\n",
      " Team that appeared in the most matches: Mumbai Indians (140 matches)\n"
     ]
    }
   ],
   "source": [
    "if 'Team 1' in data.columns and 'Team 2' in data.columns:\n",
    "    team_counts = data['Team 1'].value_counts() + data['Team 2'].value_counts()\n",
    "    most_matches_team = team_counts.idxmax()\n",
    "    print(\"Teams by number of matches played:\\n\", team_counts)\n",
    "    print(f\"\\n Team that appeared in the most matches: {most_matches_team} ({team_counts.max()} matches)\")\n",
    "else:\n",
    "    print(\"'Team 1' or 'Team 2' column missing\")"
   ]
  },
  {
   "cell_type": "code",
   "execution_count": 13,
   "id": "bed6409f-f6e9-4bdc-ac0d-90d7685efbd2",
   "metadata": {},
   "outputs": [
    {
     "name": "stdout",
     "output_type": "stream",
     "text": [
      "Wins after losing toss:\n",
      " Winners\n",
      "Mumbai Indians                 39\n",
      "Royal Challengers Bangalore    37\n",
      "Chennai Super Kings            37\n",
      "Kings XI Punjab                37\n",
      "Kolkata Knight Riders          30\n",
      "Rajasthan Royals               29\n",
      "Delhi Daredevils               28\n",
      "Sunrisers Hyderabad            20\n",
      "Deccan Chargers                10\n",
      "Pune Warriors                   9\n",
      "Gujarat Lions                   3\n",
      "Kochi Tuskers Kerala            2\n",
      "Rising Pune Supergiants         2\n",
      "Name: count, dtype: int64\n",
      "\n",
      " Team with most wins after losing toss: Mumbai Indians (39 wins)\n"
     ]
    }
   ],
   "source": [
    "if 'Toss_Winner' in data.columns and 'Winners' in data.columns:\n",
    "    lost_toss_df = data[data['Toss_Winner'] != data['Winners']]\n",
    "    wins_after_losing_toss = lost_toss_df['Winners'].value_counts()\n",
    "    if not wins_after_losing_toss.empty:\n",
    "        print(\"Wins after losing toss:\\n\", wins_after_losing_toss)\n",
    "        print(f\"\\n Team with most wins after losing toss: {wins_after_losing_toss.idxmax()} ({wins_after_losing_toss.max()} wins)\")\n",
    "    else:\n",
    "        print(\"No records found where team lost toss and won match.\")\n",
    "else:\n",
    "    print(\"Missing columns: 'Toss_winner' or 'winner'\")"
   ]
  },
  {
   "cell_type": "code",
   "execution_count": 15,
   "id": "20d0a9c3-8f44-4541-a156-0fca9ec3fcd6",
   "metadata": {},
   "outputs": [
    {
     "name": "stdout",
     "output_type": "stream",
     "text": [
      "Cities where toss winner always won: ['Bloemfontein', 'Indore', 'Kanpur']\n"
     ]
    }
   ],
   "source": [
    "consistent_cities = []\n",
    "\n",
    "if 'City' in data.columns and 'Toss_Winner' in data.columns and 'Winners' in data.columns:\n",
    "    for city, group in data.groupby('City'):\n",
    "        if all(group['Toss_Winner'] == group['Winners']):\n",
    "            consistent_cities.append(city)\n",
    "    if consistent_cities:\n",
    "        print(\"Cities where toss winner always won:\", consistent_cities)\n",
    "    else:\n",
    "        print(\"No city where toss winner always won.\")\n",
    "else:\n",
    "    print(\"Missing columns: 'city', 'toss_winner', or 'winner'\")\n"
   ]
  },
  {
   "cell_type": "code",
   "execution_count": 16,
   "id": "ca711868-b343-4071-8697-cfa7c6faee2c",
   "metadata": {},
   "outputs": [
    {
     "name": "stdout",
     "output_type": "stream",
     "text": [
      "Percentage of matches won by team that chose to bat: 45.04%\n"
     ]
    }
   ],
   "source": [
    "if 'Toss_Decision' in data.columns and 'Toss_Winner' in data.columns and 'Winners' in data.columns:\n",
    "    bat_df = data[data['Toss_Decision'].str.lower() == 'bat']\n",
    "    if len(bat_df) > 0:\n",
    "        bat_wins = (bat_df['Toss_Winner'] == bat_df['Winners']).sum()\n",
    "        bat_percentage = (bat_wins / len(bat_df)) * 100\n",
    "        print(f\"Percentage of matches won by team that chose to bat: {bat_percentage:.2f}%\")\n",
    "    else:\n",
    "        print(\"No matches found where toss decision was 'bat'\")\n",
    "else:\n",
    "    print(\"Missing columns: 'toss_decision', 'toss_winner', or 'winner'\")\n"
   ]
  },
  {
   "cell_type": "code",
   "execution_count": null,
   "id": "7bc3d695-6b65-4b63-abfa-d78eb0565dea",
   "metadata": {},
   "outputs": [],
   "source": []
  }
 ],
 "metadata": {
  "kernelspec": {
   "display_name": "Python 3 (ipykernel)",
   "language": "python",
   "name": "python3"
  },
  "language_info": {
   "codemirror_mode": {
    "name": "ipython",
    "version": 3
   },
   "file_extension": ".py",
   "mimetype": "text/x-python",
   "name": "python",
   "nbconvert_exporter": "python",
   "pygments_lexer": "ipython3",
   "version": "3.14.0"
  }
 },
 "nbformat": 4,
 "nbformat_minor": 5
}
