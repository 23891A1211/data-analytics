{
 "cells": [
  {
   "cell_type": "code",
   "execution_count": 1,
   "id": "0d337a7a-a03f-4885-acad-60f9c244fd1f",
   "metadata": {},
   "outputs": [],
   "source": [
    "import pandas as pd"
   ]
  },
  {
   "cell_type": "code",
   "execution_count": 2,
   "id": "05230689-2e61-4361-8e1d-e57c5380f021",
   "metadata": {},
   "outputs": [],
   "source": [
    "data=pd.read_csv(\"C:/Users/HP/Downloads/matches(1).csv\")"
   ]
  },
  {
   "cell_type": "code",
   "execution_count": 3,
   "id": "34513125-9021-402f-a5a3-cf760f3fa652",
   "metadata": {},
   "outputs": [
    {
     "data": {
      "text/html": [
       "<div>\n",
       "<style scoped>\n",
       "    .dataframe tbody tr th:only-of-type {\n",
       "        vertical-align: middle;\n",
       "    }\n",
       "\n",
       "    .dataframe tbody tr th {\n",
       "        vertical-align: top;\n",
       "    }\n",
       "\n",
       "    .dataframe thead th {\n",
       "        text-align: right;\n",
       "    }\n",
       "</style>\n",
       "<table border=\"1\" class=\"dataframe\">\n",
       "  <thead>\n",
       "    <tr style=\"text-align: right;\">\n",
       "      <th></th>\n",
       "      <th>SINO</th>\n",
       "      <th>YEAR</th>\n",
       "      <th>City</th>\n",
       "      <th>Date</th>\n",
       "      <th>Team 1</th>\n",
       "      <th>Team 2</th>\n",
       "      <th>Toss_Winner</th>\n",
       "      <th>Toss_Decision</th>\n",
       "      <th>Result_type</th>\n",
       "      <th>Winners</th>\n",
       "      <th>Location</th>\n",
       "    </tr>\n",
       "  </thead>\n",
       "  <tbody>\n",
       "    <tr>\n",
       "      <th>0</th>\n",
       "      <td>1</td>\n",
       "      <td>2008</td>\n",
       "      <td>Bangalore</td>\n",
       "      <td>18-04-2008</td>\n",
       "      <td>Kolkata Knight Riders</td>\n",
       "      <td>Royal Challengers Bangalore</td>\n",
       "      <td>Royal Challengers Bangalore</td>\n",
       "      <td>field</td>\n",
       "      <td>normal</td>\n",
       "      <td>Kolkata Knight Riders</td>\n",
       "      <td>M Chinnaswamy Stadium</td>\n",
       "    </tr>\n",
       "    <tr>\n",
       "      <th>1</th>\n",
       "      <td>2</td>\n",
       "      <td>2008</td>\n",
       "      <td>Chandigarh</td>\n",
       "      <td>19-04-2008</td>\n",
       "      <td>Chennai Super Kings</td>\n",
       "      <td>Kings XI Punjab</td>\n",
       "      <td>Chennai Super Kings</td>\n",
       "      <td>bat</td>\n",
       "      <td>normal</td>\n",
       "      <td>Chennai Super Kings</td>\n",
       "      <td>Punjab Cricket Association Stadium, Mohali</td>\n",
       "    </tr>\n",
       "    <tr>\n",
       "      <th>2</th>\n",
       "      <td>3</td>\n",
       "      <td>2008</td>\n",
       "      <td>Delhi</td>\n",
       "      <td>19-04-2008</td>\n",
       "      <td>Rajasthan Royals</td>\n",
       "      <td>Delhi Daredevils</td>\n",
       "      <td>Rajasthan Royals</td>\n",
       "      <td>bat</td>\n",
       "      <td>normal</td>\n",
       "      <td>Delhi Daredevils</td>\n",
       "      <td>Feroz Shah Kotla</td>\n",
       "    </tr>\n",
       "    <tr>\n",
       "      <th>3</th>\n",
       "      <td>4</td>\n",
       "      <td>2008</td>\n",
       "      <td>Mumbai</td>\n",
       "      <td>20-04-2008</td>\n",
       "      <td>Mumbai Indians</td>\n",
       "      <td>Royal Challengers Bangalore</td>\n",
       "      <td>Mumbai Indians</td>\n",
       "      <td>bat</td>\n",
       "      <td>normal</td>\n",
       "      <td>Royal Challengers Bangalore</td>\n",
       "      <td>Wankhede Stadium</td>\n",
       "    </tr>\n",
       "    <tr>\n",
       "      <th>4</th>\n",
       "      <td>5</td>\n",
       "      <td>2008</td>\n",
       "      <td>Kolkata</td>\n",
       "      <td>20-04-2008</td>\n",
       "      <td>Deccan Chargers</td>\n",
       "      <td>Kolkata Knight Riders</td>\n",
       "      <td>Deccan Chargers</td>\n",
       "      <td>bat</td>\n",
       "      <td>normal</td>\n",
       "      <td>Kolkata Knight Riders</td>\n",
       "      <td>Eden Gardens</td>\n",
       "    </tr>\n",
       "  </tbody>\n",
       "</table>\n",
       "</div>"
      ],
      "text/plain": [
       "   SINO  YEAR        City        Date                 Team 1  \\\n",
       "0     1  2008   Bangalore  18-04-2008  Kolkata Knight Riders   \n",
       "1     2  2008  Chandigarh  19-04-2008    Chennai Super Kings   \n",
       "2     3  2008       Delhi  19-04-2008       Rajasthan Royals   \n",
       "3     4  2008      Mumbai  20-04-2008         Mumbai Indians   \n",
       "4     5  2008     Kolkata  20-04-2008        Deccan Chargers   \n",
       "\n",
       "                        Team 2                  Toss_Winner Toss_Decision  \\\n",
       "0  Royal Challengers Bangalore  Royal Challengers Bangalore         field   \n",
       "1              Kings XI Punjab          Chennai Super Kings           bat   \n",
       "2             Delhi Daredevils             Rajasthan Royals           bat   \n",
       "3  Royal Challengers Bangalore               Mumbai Indians           bat   \n",
       "4        Kolkata Knight Riders              Deccan Chargers           bat   \n",
       "\n",
       "  Result_type                      Winners  \\\n",
       "0      normal        Kolkata Knight Riders   \n",
       "1      normal          Chennai Super Kings   \n",
       "2      normal             Delhi Daredevils   \n",
       "3      normal  Royal Challengers Bangalore   \n",
       "4      normal        Kolkata Knight Riders   \n",
       "\n",
       "                                     Location  \n",
       "0                       M Chinnaswamy Stadium  \n",
       "1  Punjab Cricket Association Stadium, Mohali  \n",
       "2                            Feroz Shah Kotla  \n",
       "3                            Wankhede Stadium  \n",
       "4                                Eden Gardens  "
      ]
     },
     "execution_count": 3,
     "metadata": {},
     "output_type": "execute_result"
    }
   ],
   "source": [
    "data.head()"
   ]
  },
  {
   "cell_type": "markdown",
   "id": "b73e50c0-2655-43d0-8622-f77d1f46d7f2",
   "metadata": {},
   "source": [
    "Which toss decision (bat or field) leads to more wins?"
   ]
  },
  {
   "cell_type": "code",
   "execution_count": 8,
   "id": "f91c4711-7394-428c-8387-fb39d1260f53",
   "metadata": {},
   "outputs": [
    {
     "data": {
      "text/plain": [
       "Toss_Decision\n",
       "bat      262\n",
       "field    315\n",
       "Name: YEAR, dtype: int64"
      ]
     },
     "execution_count": 8,
     "metadata": {},
     "output_type": "execute_result"
    }
   ],
   "source": [
    "winner=data.groupby('Toss_Decision')['YEAR'].count()\n",
    "winner"
   ]
  },
  {
   "cell_type": "markdown",
   "id": "9b5c3fcd-452f-4000-a89a-a8ee47f5b809",
   "metadata": {},
   "source": [
    "Which stadium hosted the most matches in the dataset?"
   ]
  },
  {
   "cell_type": "code",
   "execution_count": 19,
   "id": "10d2f708-7450-4bea-afa8-159fbea1483f",
   "metadata": {},
   "outputs": [
    {
     "data": {
      "text/plain": [
       "'M Chinnaswamy Stadium'"
      ]
     },
     "execution_count": 19,
     "metadata": {},
     "output_type": "execute_result"
    }
   ],
   "source": [
    "a=data.groupby('Location')['Date'].count().idxmax()\n",
    "a"
   ]
  },
  {
   "cell_type": "markdown",
   "id": "d7031b64-6597-467c-b6c9-eb8c0e3f4d5a",
   "metadata": {},
   "source": [
    "Which venue saw the most wins for home teams?"
   ]
  },
  {
   "cell_type": "code",
   "execution_count": 56,
   "id": "3fa4369d-9623-4b1b-b94b-081fde09229f",
   "metadata": {},
   "outputs": [
    {
     "data": {
      "text/plain": [
       "'MA Chidambaram Stadium, Chepauk'"
      ]
     },
     "execution_count": 56,
     "metadata": {},
     "output_type": "execute_result"
    }
   ],
   "source": [
    "a=data[data['Winners'] == data['Team 1']]['Location'].value_counts().idxmax()\n",
    "a"
   ]
  },
  {
   "cell_type": "markdown",
   "id": "8e60210a-eb7c-40b6-a505-2eba478f7072",
   "metadata": {},
   "source": [
    "Which venue saw the most wins for away teams?"
   ]
  },
  {
   "cell_type": "code",
   "execution_count": 55,
   "id": "d43a29f6-dfd7-412c-b88e-85c475b8ad34",
   "metadata": {},
   "outputs": [
    {
     "data": {
      "text/plain": [
       "'Eden Gardens'"
      ]
     },
     "execution_count": 55,
     "metadata": {},
     "output_type": "execute_result"
    }
   ],
   "source": [
    "a=data[data['Winners'] == data['Team 2']]['Location'].value_counts().idxmax()\n",
    "a"
   ]
  },
  {
   "cell_type": "markdown",
   "id": "109fef6c-35f2-41bd-828d-076d135c5f9e",
   "metadata": {},
   "source": [
    "Is there any relationship between toss winner and match winner?"
   ]
  },
  {
   "cell_type": "code",
   "execution_count": 57,
   "id": "3fde6236-a7fa-4ba0-890d-ff4db14b7e23",
   "metadata": {},
   "outputs": [
    {
     "data": {
      "text/plain": [
       "True     50.433276\n",
       "False    49.566724\n",
       "Name: proportion, dtype: float64"
      ]
     },
     "execution_count": 57,
     "metadata": {},
     "output_type": "execute_result"
    }
   ],
   "source": [
    "a=((data['Toss_Winner'] == data['Winners']).value_counts(normalize=True) * 100)\n",
    "a"
   ]
  },
  {
   "cell_type": "markdown",
   "id": "ca1b6acc-68b6-4672-9a5e-6af30fede4b5",
   "metadata": {},
   "source": [
    "Which team won matches most frequently in their home city?"
   ]
  },
  {
   "cell_type": "code",
   "execution_count": 68,
   "id": "a3078cb4-ef94-419d-9e94-ee9a864dd6cf",
   "metadata": {},
   "outputs": [
    {
     "data": {
      "text/plain": [
       "Team 1               Winners                    \n",
       "Chennai Super Kings  Chennai Super Kings            45\n",
       "                     Kolkata Knight Riders           6\n",
       "                     Mumbai Indians                  5\n",
       "                     Delhi Daredevils                4\n",
       "                     Rajasthan Royals                4\n",
       "                                                    ..\n",
       "Sunrisers Hyderabad  Royal Challengers Bangalore     3\n",
       "                     Chennai Super Kings             2\n",
       "                     Delhi Daredevils                2\n",
       "                     Kings XI Punjab                 1\n",
       "                     Rising Pune Supergiants         1\n",
       "Name: count, Length: 117, dtype: int64"
      ]
     },
     "execution_count": 68,
     "metadata": {},
     "output_type": "execute_result"
    }
   ],
   "source": [
    "a=data.groupby('Team 1')['Winners'].value_counts()\n",
    "a"
   ]
  },
  {
   "cell_type": "markdown",
   "id": "60775d68-88c9-4971-8556-1a2738f07488",
   "metadata": {},
   "source": [
    "Which opponent teams faced each other most often in this dataset?"
   ]
  },
  {
   "cell_type": "code",
   "execution_count": 71,
   "id": "1ee57dcb-2f4e-44ed-a578-9328ac065832",
   "metadata": {},
   "outputs": [
    {
     "data": {
      "text/plain": [
       "('Kolkata Knight Riders', 'Royal Challengers Bangalore')"
      ]
     },
     "execution_count": 71,
     "metadata": {},
     "output_type": "execute_result"
    }
   ],
   "source": [
    "a=data.groupby(['Team 1', 'Team 2']).size().idxmax()\n",
    "a"
   ]
  },
  {
   "cell_type": "markdown",
   "id": "d02e4a5c-91e7-404c-9fe3-3551528dd489",
   "metadata": {},
   "source": [
    "Are there any stadiums where the same team keeps winning?"
   ]
  },
  {
   "cell_type": "code",
   "execution_count": 86,
   "id": "9d636f60-7a5e-4577-b030-df5c04278e74",
   "metadata": {},
   "outputs": [
    {
     "data": {
      "text/plain": [
       "Location      Winners              \n",
       "Eden Gardens  Kolkata Knight Riders    33\n",
       "dtype: int64"
      ]
     },
     "execution_count": 86,
     "metadata": {},
     "output_type": "execute_result"
    }
   ],
   "source": [
    "a=data.groupby(['Location', 'Winners']).size().sort_values(ascending=False).head(1)\n",
    "a"
   ]
  },
  {
   "cell_type": "code",
   "execution_count": null,
   "id": "20f0a791-3012-4d96-9a32-1b93a6fef1a0",
   "metadata": {},
   "outputs": [],
   "source": [
    "Which toss decision is more successful at each venue?"
   ]
  },
  {
   "cell_type": "code",
   "execution_count": 82,
   "id": "d1f55bc4-84d7-48e7-afb5-952ca6419d9f",
   "metadata": {},
   "outputs": [
    {
     "name": "stdout",
     "output_type": "stream",
     "text": [
      "\n",
      "Toss decision success by venue:\n",
      "\n",
      "Toss_Decision  Best Decision\n",
      "City                        \n",
      "Abu Dhabi                bat\n",
      "Ahmedabad                bat\n",
      "Bangalore              field\n",
      "Bloemfontein             bat\n",
      "Cape Town                bat\n",
      "Centurion              field\n",
      "Chandigarh             field\n",
      "Chennai                  bat\n",
      "Cuttack                field\n",
      "Delhi                  field\n",
      "Dharamsala             field\n",
      "Durban                   bat\n",
      "East London              bat\n",
      "Hyderabad              field\n",
      "Indore                 field\n",
      "Jaipur                 field\n",
      "Johannesburg           field\n",
      "Kanpur                 field\n",
      "Kimberley                bat\n",
      "Kochi                    bat\n",
      "Kolkata                field\n",
      "Mumbai                 field\n",
      "Nagpur                   bat\n",
      "Port Elizabeth           bat\n",
      "Pune                     bat\n",
      "Raipur                 field\n",
      "Rajkot                 field\n",
      "Ranchi                 field\n",
      "Sharjah                field\n",
      "Visakhapatnam            bat\n"
     ]
    }
   ],
   "source": [
    "decision_success = data[data['Toss_Winner'] == data['Winners']].groupby(['City', 'Toss_Decision']).size().unstack(fill_value=0)\n",
    "decision_success['Best Decision'] = decision_success.idxmax(axis=1)\n",
    "print(\"\\nToss decision success by venue:\\n\")\n",
    "print(decision_success[['Best Decision']])"
   ]
  },
  {
   "cell_type": "code",
   "execution_count": null,
   "id": "4cf53744-50c8-4b7f-99a2-636a36637e25",
   "metadata": {},
   "outputs": [],
   "source": []
  },
  {
   "cell_type": "code",
   "execution_count": 73,
   "id": "f86e584b-7ace-4aed-a8ff-c9fc3ad1cfe7",
   "metadata": {},
   "outputs": [
    {
     "name": "stdout",
     "output_type": "stream",
     "text": [
      "Cities where fielding first gives a higher chance of winning:\n",
      "\n",
      "City\n",
      "Bloemfontein     100.000000\n",
      "Kanpur           100.000000\n",
      "Indore           100.000000\n",
      "Kimberley        100.000000\n",
      "Centurion         83.333333\n",
      "Ranchi            75.000000\n",
      "Kolkata           69.230769\n",
      "Rajkot            66.666667\n",
      "Raipur            66.666667\n",
      "Abu Dhabi         66.666667\n",
      "Jaipur            63.157895\n",
      "Durban            60.000000\n",
      "Cuttack           60.000000\n",
      "Delhi             54.838710\n",
      "Bangalore         54.000000\n",
      "Hyderabad         52.380952\n",
      "Mumbai            52.272727\n",
      "Ahmedabad         50.000000\n",
      "Dharamsala        50.000000\n",
      "Sharjah           50.000000\n",
      "Pune              50.000000\n",
      "Chandigarh        50.000000\n",
      "Johannesburg      50.000000\n",
      "Kochi             33.333333\n",
      "Cape Town         33.333333\n",
      "Visakhapatnam     33.333333\n",
      "Chennai           28.571429\n",
      "Name: count, dtype: float64\n"
     ]
    }
   ],
   "source": [
    "field_first = data[data['Toss_Decision'] == 'field']\n",
    "field_first_wins = field_first[field_first['Toss_Winner'] == field_first['Winners']]\n",
    "field_success_city = field_first_wins['City'].value_counts() / field_first['City'].value_counts() * 100\n",
    "print(\"Cities where fielding first gives a higher chance of winning:\\n\")\n",
    "print(field_success_city.sort_values(ascending=False).dropna())"
   ]
  },
  {
   "cell_type": "code",
   "execution_count": null,
   "id": "95266343-459b-4fc7-8dd8-1f7d0685aa0e",
   "metadata": {},
   "outputs": [],
   "source": []
  }
 ],
 "metadata": {
  "kernelspec": {
   "display_name": "Python 3 (ipykernel)",
   "language": "python",
   "name": "python3"
  },
  "language_info": {
   "codemirror_mode": {
    "name": "ipython",
    "version": 3
   },
   "file_extension": ".py",
   "mimetype": "text/x-python",
   "name": "python",
   "nbconvert_exporter": "python",
   "pygments_lexer": "ipython3",
   "version": "3.13.5"
  }
 },
 "nbformat": 4,
 "nbformat_minor": 5
}
